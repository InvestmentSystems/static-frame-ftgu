{
 "cells": [
  {
   "cell_type": "code",
   "execution_count": 1,
   "id": "615d50a0",
   "metadata": {},
   "outputs": [
    {
     "data": {
      "text/html": [
       "<table><thead><tr><th></th><th>a</th><th>b</th></tr></thead><tbody><tr><th>x</th><td>0</td><td>0</td></tr><tr><th>y</th><td>0</td><td>0</td></tr></tbody></table>"
      ],
      "text/plain": [
       "<Frame>\n",
       "<Index> a       b       <<U1>\n",
       "<Index>\n",
       "x       0       0\n",
       "y       0       0\n",
       "<<U1>   <int64> <int64>"
      ]
     },
     "execution_count": 1,
     "metadata": {},
     "output_type": "execute_result"
    }
   ],
   "source": [
    "import static_frame as sf\n",
    "sf.Frame.from_element(0, columns=tuple('ab'), index=tuple('xy'))"
   ]
  }
 ],
 "metadata": {
  "kernelspec": {
   "display_name": "Python 3",
   "language": "python",
   "name": "python3"
  },
  "language_info": {
   "codemirror_mode": {
    "name": "ipython",
    "version": 3
   },
   "file_extension": ".py",
   "mimetype": "text/x-python",
   "name": "python",
   "nbconvert_exporter": "python",
   "pygments_lexer": "ipython3",
   "version": "3.8.12"
  }
 },
 "nbformat": 4,
 "nbformat_minor": 5
}
